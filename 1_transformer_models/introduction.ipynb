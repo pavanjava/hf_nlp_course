{
 "cells": [
  {
   "metadata": {},
   "cell_type": "markdown",
   "source": [
    "## Natural Language Processing\n",
    "Ask a Question\n",
    "Before jumping into Transformer models, let’s do a quick overview of what natural language processing is and why we care about it."
   ],
   "id": "ccc127706101f65f"
  },
  {
   "metadata": {},
   "cell_type": "markdown",
   "source": [
    "## What is NLP?\n",
    "NLP is a field of linguistics and machine learning focused on understanding everything related to human language. The aim of NLP tasks is not only to understand single words individually, but to be able to understand the context of those words.\n",
    "\n",
    "The following is a list of common NLP tasks, with some examples of each:\n",
    "\n",
    "<li><b>Classifying whole sentences:</b> Getting the sentiment of a review, detecting if an email is spam, determining if a sentence is grammatically correct or whether two sentences are logically related or not</li>\n",
    "\n",
    "<li><b>Classifying each word in a sentence:</b> Identifying the grammatical components of a sentence (noun, verb, adjective), or the named entities (person, location, organization)</li>\n",
    "\n",
    "<li><b>Generating text content:</b> Completing a prompt with auto-generated text, filling in the blanks in a text with masked words</li>\n",
    "\n",
    "<li><b>Extracting an answer from a text:</b> Given a question and a context, extracting the answer to the question based on the information provided in the context</li>\n",
    "\n",
    "<li><b>Generating a new sentence from an input text:</b> Translating a text into another language, summarizing a text</li>\n",
    "\n",
    "NLP isn’t limited to written text though. It also tackles complex challenges in speech recognition and computer vision, such as generating a transcript of an audio sample or a description of an image."
   ],
   "id": "6560c9331f95dcd4"
  },
  {
   "metadata": {},
   "cell_type": "markdown",
   "source": [
    "## Why is it challenging?\n",
    "Computers don’t process information in the same way as humans. For example, when we read the sentence “I am hungry,” we can easily understand its meaning. Similarly, given two sentences such as “I am hungry” and “I am sad,” we’re able to easily determine how similar they are. For machine learning (ML) models, such tasks are more difficult. The text needs to be processed in a way that enables the model to learn from it. And because language is complex, we need to think carefully about how this processing must be done. There has been a lot of research done on how to represent text, and we will look at some methods in the next chapter."
   ],
   "id": "76e1acd02a793e8c"
  },
  {
   "metadata": {},
   "cell_type": "markdown",
   "source": "### End of Introduction",
   "id": "3499aa75cd927e2a"
  },
  {
   "metadata": {},
   "cell_type": "markdown",
   "source": "",
   "id": "7d9238ff5e26bbd8"
  },
  {
   "metadata": {},
   "cell_type": "markdown",
   "source": "",
   "id": "cfc33df0c8f99522"
  },
  {
   "metadata": {},
   "cell_type": "markdown",
   "source": "",
   "id": "96d91971850cf621"
  }
 ],
 "metadata": {
  "kernelspec": {
   "display_name": "Python 3",
   "language": "python",
   "name": "python3"
  },
  "language_info": {
   "codemirror_mode": {
    "name": "ipython",
    "version": 2
   },
   "file_extension": ".py",
   "mimetype": "text/x-python",
   "name": "python",
   "nbconvert_exporter": "python",
   "pygments_lexer": "ipython2",
   "version": "2.7.6"
  }
 },
 "nbformat": 4,
 "nbformat_minor": 5
}
