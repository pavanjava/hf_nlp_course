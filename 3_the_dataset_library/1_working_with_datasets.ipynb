{
 "cells": [
  {
   "cell_type": "code",
   "execution_count": 1,
   "id": "5abf48b2496d07cc",
   "metadata": {
    "ExecuteTime": {
     "end_time": "2025-02-25T08:36:09.135028Z",
     "start_time": "2025-02-25T08:36:09.133018Z"
    }
   },
   "outputs": [],
   "source": [
    "from datasets import load_dataset"
   ]
  },
  {
   "cell_type": "code",
   "execution_count": 2,
   "id": "2b7938278d8596f8",
   "metadata": {
    "ExecuteTime": {
     "end_time": "2025-02-25T08:36:10.311197Z",
     "start_time": "2025-02-25T08:36:09.146061Z"
    }
   },
   "outputs": [
    {
     "data": {
      "text/plain": [
       "DatasetDict({\n",
       "    train: Dataset({\n",
       "        features: ['Question', 'Answer'],\n",
       "        num_rows: 158\n",
       "    })\n",
       "})"
      ]
     },
     "execution_count": 2,
     "metadata": {},
     "output_type": "execute_result"
    }
   ],
   "source": [
    "ds = load_dataset('csv', data_files='data_sets/datascience_q_and_a.csv')\n",
    "ds"
   ]
  },
  {
   "cell_type": "code",
   "execution_count": 3,
   "id": "48f685fabdfcdcc4",
   "metadata": {
    "ExecuteTime": {
     "end_time": "2025-02-25T08:36:10.319914Z",
     "start_time": "2025-02-25T08:36:10.317083Z"
    }
   },
   "outputs": [
    {
     "data": {
      "text/plain": [
       "{'Question': 'What is the purpose of feature engineering in machine learning?',\n",
       " 'Answer': 'Feature engineering involves selecting, transforming, or creating new features from the raw data to improve the performance of machine learning models by making them more expressive, informative, and suitable for the task at hand.'}"
      ]
     },
     "execution_count": 3,
     "metadata": {},
     "output_type": "execute_result"
    }
   ],
   "source": [
    "ds['train'][0]"
   ]
  },
  {
   "cell_type": "markdown",
   "id": "68fd30a2-1216-41de-993b-fe49afc3a064",
   "metadata": {},
   "source": [
    "### Handling remote datasets"
   ]
  },
  {
   "cell_type": "code",
   "execution_count": 5,
   "id": "5a6e1f759a55053",
   "metadata": {
    "ExecuteTime": {
     "end_time": "2025-02-25T08:36:12.635444Z",
     "start_time": "2025-02-25T08:36:10.336738Z"
    }
   },
   "outputs": [
    {
     "data": {
      "text/plain": [
       "DatasetDict({\n",
       "    train: Dataset({\n",
       "        features: ['title', 'paragraphs'],\n",
       "        num_rows: 442\n",
       "    })\n",
       "    test: Dataset({\n",
       "        features: ['title', 'paragraphs'],\n",
       "        num_rows: 48\n",
       "    })\n",
       "})"
      ]
     },
     "execution_count": 5,
     "metadata": {},
     "output_type": "execute_result"
    }
   ],
   "source": [
    "url = \"https://github.com/crux82/squad-it/raw/master/\"\n",
    "data_files = {\n",
    "    \"train\": url + \"SQuAD_it-train.json.gz\",\n",
    "    \"test\": url + \"SQuAD_it-test.json.gz\",\n",
    "}\n",
    "squad_it_dataset = load_dataset(\"json\", data_files=data_files, field=\"data\")\n",
    "squad_it_dataset"
   ]
  },
  {
   "cell_type": "raw",
   "id": "36f675b806389050",
   "metadata": {},
   "source": [
    "### Dataset manipulations"
   ]
  },
  {
   "cell_type": "code",
   "execution_count": 6,
   "id": "f57a5f624bc9f0a4",
   "metadata": {
    "ExecuteTime": {
     "end_time": "2025-02-25T08:36:13.944914Z",
     "start_time": "2025-02-25T08:36:12.644020Z"
    }
   },
   "outputs": [
    {
     "data": {
      "text/plain": [
       "DatasetDict({\n",
       "    train: Dataset({\n",
       "        features: ['uniqueID', 'drugName', 'condition', 'review', 'rating', 'date', 'usefulCount'],\n",
       "        num_rows: 161297\n",
       "    })\n",
       "    test: Dataset({\n",
       "        features: ['uniqueID', 'drugName', 'condition', 'review', 'rating', 'date', 'usefulCount'],\n",
       "        num_rows: 53766\n",
       "    })\n",
       "})"
      ]
     },
     "execution_count": 6,
     "metadata": {},
     "output_type": "execute_result"
    }
   ],
   "source": [
    "data_files = {\"train\": \"data_sets/drugs_train.csv\", \"test\": \"data_sets/drugs_test.csv\"}\n",
    "drug_dataset = load_dataset(\"csv\", data_files=data_files)\n",
    "drug_dataset"
   ]
  },
  {
   "cell_type": "code",
   "execution_count": 7,
   "id": "113e0a3dc60a951",
   "metadata": {
    "ExecuteTime": {
     "end_time": "2025-02-25T08:36:13.960099Z",
     "start_time": "2025-02-25T08:36:13.953087Z"
    }
   },
   "outputs": [
    {
     "data": {
      "text/plain": [
       "{'uniqueID': [87571,\n",
       "  178045,\n",
       "  80482,\n",
       "  159268,\n",
       "  205477,\n",
       "  37296,\n",
       "  225540,\n",
       "  194581,\n",
       "  47908,\n",
       "  28843],\n",
       " 'drugName': ['Naproxen',\n",
       "  'Duloxetine',\n",
       "  'Mobic',\n",
       "  'TriNessa',\n",
       "  'Pristiq',\n",
       "  'Vyvanse',\n",
       "  'Bupropion',\n",
       "  'Atorvastatin',\n",
       "  'Adapalene',\n",
       "  'Lexapro'],\n",
       " 'condition': ['Gout, Acute',\n",
       "  'ibromyalgia',\n",
       "  'Inflammatory Conditions',\n",
       "  'Birth Control',\n",
       "  'Depression',\n",
       "  'ADHD',\n",
       "  'Depression',\n",
       "  'High Cholesterol, Familial Homozygous',\n",
       "  'Acne',\n",
       "  'Anxiety'],\n",
       " 'review': ['\"like the previous person mention, I&#039;m a strong believer of aleve, it works faster for my gout than the prescription meds I take. No more going to the doctor for refills.....Aleve works!\"',\n",
       "  '\"I have taken Cymbalta for about a year and a half for fibromyalgia pain. It is great\\r\\nas a pain reducer and an anti-depressant, however, the side effects outweighed \\r\\nany benefit I got from it. I had trouble with restlessness, being tired constantly,\\r\\ndizziness, dry mouth, numbness and tingling in my feet, and horrible sweating. I am\\r\\nbeing weaned off of it now. Went from 60 mg to 30mg and now to 15 mg. I will be\\r\\noff completely in about a week. The fibro pain is coming back, but I would rather deal with it than the side effects.\"',\n",
       "  '\"I have been taking Mobic for over a year with no side effects other than an elevated blood pressure.  I had severe knee and ankle pain which completely went away after taking Mobic.  I attempted to stop the medication however pain returned after a few days.\"',\n",
       "  '\"I am now 21 and have been on TriNessa since I was 15 years old, so 6 years on the same pill is a long time, obviously I love it. I originally was placed on the pill to control my VERY painful pains and cramps during my periods, and to help control acne.  Eventually when I became sexually active when I was 18, the pill was also important as birth control. Never once have I ever had a &quot;pregnancy scare&quot; while on this pill.  I have not noticed any negative effects, no excessive weight gain, or mood swings. The first few months I was on the pill, I had some spotting but after 3 months or so that stopped.  Come time for my period week, my period was a lot less painful and I had lighter bleeding as well. Strongly recommended!\"',\n",
       "  '\"I was originally on Prozac 20mg for my depression.  I found the Prozac helpful, but emotionally numbing.  I am participating in psychotherapy and it got to the point that I couldn&#039;t really access my feelings and it was interfering with my therapy. I spoke to my doctor and he switched me to Pristiq 50mg. I found that it was easy to adjust to (some nighttime sweating but that&#039;s about it).  It gives me very good control of my depression.  My irritability is also very well controlled.  However, I am now able to access my feelings when I need to (such as in therapy) and I feel less numb. I am still able to manage stress just as well as when I was on Prozac, yet I don&#039;t feel so disconnected from the world and from myself.\"',\n",
       "  '\"I&#039;ve been taking this medication for many months now. I take it on work days mostly &amp; days when I need to get up and go. I still have depression and sometimes it&#039;s hard to sleep but not always. It helps if you love food because I don&#039;t over eat but if I forget to bring a snack to work I get a little nauseous or I just feel super hungry by the end of my shift because I forget about food for like 7-9 hours. I try to eat food before I take it. Girls at work ask me what helps me be confident and sell stuff and I tell them vyvanse. I have depression and anxiety but this helps so much. I do feel really tired and like I don&#039;t want to do stuff on days I don&#039;t take it and after it wears off. So my doctors trying me on brintellex or something too.\"',\n",
       "  '\"I was previously taking 150 mg for years and it stopped working. Just started 300 mg XL three days ago and I feel great! I suffer from mild depression and anxiety/rage. In one day I noticed I had more energy and felt an overall feeling of hope and joy. I also have a terrible sweet tooth and noticed that it took my cravings away (I didn&#039;t expect that!). Since the holidays are here, people have been giving me chocolate and baked goods and I&#039;m not even tempted. I feel great!\"',\n",
       "  '\"My doctor switched me from simvastin 80 mg to atrovastatin 20 mg because my cholesterol started to go up again from 130 to 154. This is only day four of taking this medicine and I feel like I was hit by a brick wall. I feel so tired and have to force myself to get out of bed. I also feel that&#039;s its effecting my cognitive abilities.. Calling my doctor today to switch...\"',\n",
       "  '\"When I moved to a place with a really hot climate,I started having horrible acne.I never had any issues with my skin before and i was devastated, I was 28 and having skin problems .I tried every facial wash,creams and scrubs. Nothing worked. Finally decided to see a derma after 2 yrs of fighting acne. He prescribed clindamycin and Differin. First weeks of using,my skin dried so badly. It was sore and sensitive esp around the eye area. Gradually though, my face cleared. It also helped slowly lighten the dark spots from healed acne.I didn&#039;t have any of those initial breakouts but the change was really very gradual. It does work. Just be patient. I&#039;m now happy with my skin. Tip:after washing,MOISTURIZE! Then apply differin. Goodluck :-)\"',\n",
       "  '\"I LOVE LEXAPRO. I had really bad anxiety before Lexapro and now I feel much calmer and more in control of my life.  I only take 5mgs because my body is super sensitive but I can definitely feel and see a change.  Sometimes I still suffer from anxiety during PMS but during the rest of the month I&#039;m so happy and life is so much easier to deal with.  Lexapro was a life saver for me.\"'],\n",
       " 'rating': [9, 3, 10, 10, 10, 9, 9, 1, 9, 10],\n",
       " 'date': ['2-Sep-15',\n",
       "  '7-Nov-11',\n",
       "  '5-Jun-13',\n",
       "  '21-Oct-10',\n",
       "  '13-Jul-13',\n",
       "  '31-Jan-16',\n",
       "  '23-Dec-13',\n",
       "  '7-Feb-13',\n",
       "  '10-Apr-15',\n",
       "  '18-Oct-09'],\n",
       " 'usefulCount': [36, 13, 128, 81, 65, 11, 110, 63, 63, 53]}"
      ]
     },
     "execution_count": 7,
     "metadata": {},
     "output_type": "execute_result"
    }
   ],
   "source": [
    "sample_ds = drug_dataset['train'].shuffle(seed=42).select(range(100))\n",
    "sample_ds[:10]"
   ]
  },
  {
   "cell_type": "code",
   "execution_count": 8,
   "id": "24bf68b37612f3bd",
   "metadata": {
    "ExecuteTime": {
     "end_time": "2025-02-25T08:36:14.023907Z",
     "start_time": "2025-02-25T08:36:13.972908Z"
    }
   },
   "outputs": [],
   "source": [
    "for split in drug_dataset.keys():\n",
    "    assert len(drug_dataset[split]) == len(drug_dataset[split].unique(\"uniqueID\"))"
   ]
  },
  {
   "cell_type": "code",
   "execution_count": 9,
   "id": "fff59c71c6ea8c30",
   "metadata": {
    "ExecuteTime": {
     "end_time": "2025-02-25T08:36:14.038854Z",
     "start_time": "2025-02-25T08:36:14.030223Z"
    }
   },
   "outputs": [
    {
     "data": {
      "text/plain": [
       "2"
      ]
     },
     "execution_count": 9,
     "metadata": {},
     "output_type": "execute_result"
    }
   ],
   "source": [
    "drug_dataset = drug_dataset.filter(lambda x: x[\"condition\"] is not None)\n",
    "len(drug_dataset)"
   ]
  },
  {
   "cell_type": "code",
   "execution_count": 10,
   "id": "3f7ee03bee9e34b6",
   "metadata": {
    "ExecuteTime": {
     "end_time": "2025-02-25T08:36:14.046483Z",
     "start_time": "2025-02-25T08:36:14.044736Z"
    }
   },
   "outputs": [],
   "source": [
    "def lowercase_condition(sample):\n",
    "    return {\"condition\": sample[\"condition\"].lower()}"
   ]
  },
  {
   "cell_type": "code",
   "execution_count": 11,
   "id": "ed6aff79043ca183",
   "metadata": {
    "ExecuteTime": {
     "end_time": "2025-02-25T08:36:14.120335Z",
     "start_time": "2025-02-25T08:36:14.052948Z"
    }
   },
   "outputs": [
    {
     "data": {
      "text/plain": [
       "['left ventricular dysfunction', 'adhd', 'birth control']"
      ]
     },
     "execution_count": 11,
     "metadata": {},
     "output_type": "execute_result"
    }
   ],
   "source": [
    "drug_dataset = drug_dataset.map(lowercase_condition)\n",
    "# Check that lowercasing worked\n",
    "drug_dataset[\"train\"][\"condition\"][:3]"
   ]
  },
  {
   "cell_type": "code",
   "execution_count": 12,
   "id": "e1c4efafd5add0bc",
   "metadata": {
    "ExecuteTime": {
     "end_time": "2025-02-25T08:36:14.128080Z",
     "start_time": "2025-02-25T08:36:14.126417Z"
    }
   },
   "outputs": [],
   "source": [
    "from transformers import AutoTokenizer"
   ]
  },
  {
   "cell_type": "code",
   "execution_count": 13,
   "id": "a8a871a99025d5b6",
   "metadata": {
    "ExecuteTime": {
     "end_time": "2025-02-25T08:36:14.404224Z",
     "start_time": "2025-02-25T08:36:14.134319Z"
    }
   },
   "outputs": [
    {
     "data": {
      "text/plain": [
       "{'overflowing_tokens': [], 'num_truncated_tokens': -231, 'input_ids': [101, 107, 1135, 1144, 1185, 1334, 2629, 117, 146, 1321, 1122, 1107, 4612, 1104, 1650, 12223, 8031, 126, 150, 1403, 1105, 9425, 9105, 107, 102], 'token_type_ids': [0, 0, 0, 0, 0, 0, 0, 0, 0, 0, 0, 0, 0, 0, 0, 0, 0, 0, 0, 0, 0, 0, 0, 0, 0], 'attention_mask': [1, 1, 1, 1, 1, 1, 1, 1, 1, 1, 1, 1, 1, 1, 1, 1, 1, 1, 1, 1, 1, 1, 1, 1, 1]}"
      ]
     },
     "execution_count": 13,
     "metadata": {},
     "output_type": "execute_result"
    }
   ],
   "source": [
    "tokenizer = AutoTokenizer.from_pretrained(\"bert-base-cased\", use_fast=False)\n",
    "\n",
    "def tokenize_and_split(sample):\n",
    "    return tokenizer(\n",
    "        sample[\"review\"],\n",
    "        truncation=True,\n",
    "        max_length=256,\n",
    "        return_overflowing_tokens=True,\n",
    "        padding=True\n",
    "    )\n",
    "\n",
    "result = tokenize_and_split(drug_dataset[\"train\"][0])\n",
    "result"
   ]
  },
  {
   "cell_type": "code",
   "execution_count": 14,
   "id": "93377046256f4ceb",
   "metadata": {
    "ExecuteTime": {
     "end_time": "2025-02-25T08:36:14.620067Z",
     "start_time": "2025-02-25T08:36:14.410586Z"
    }
   },
   "outputs": [],
   "source": [
    "tokenized_dataset = drug_dataset.map(tokenize_and_split, batched=True, batch_size=2000)"
   ]
  },
  {
   "cell_type": "code",
   "execution_count": 15,
   "id": "32715be74a1bddcc",
   "metadata": {
    "ExecuteTime": {
     "end_time": "2025-02-25T08:36:14.630206Z",
     "start_time": "2025-02-25T08:36:14.625536Z"
    }
   },
   "outputs": [
    {
     "data": {
      "text/html": [
       "<div>\n",
       "<style scoped>\n",
       "    .dataframe tbody tr th:only-of-type {\n",
       "        vertical-align: middle;\n",
       "    }\n",
       "\n",
       "    .dataframe tbody tr th {\n",
       "        vertical-align: top;\n",
       "    }\n",
       "\n",
       "    .dataframe thead th {\n",
       "        text-align: right;\n",
       "    }\n",
       "</style>\n",
       "<table border=\"1\" class=\"dataframe\">\n",
       "  <thead>\n",
       "    <tr style=\"text-align: right;\">\n",
       "      <th></th>\n",
       "      <th>uniqueID</th>\n",
       "      <th>drugName</th>\n",
       "      <th>condition</th>\n",
       "      <th>review</th>\n",
       "      <th>rating</th>\n",
       "      <th>date</th>\n",
       "      <th>usefulCount</th>\n",
       "    </tr>\n",
       "  </thead>\n",
       "  <tbody>\n",
       "    <tr>\n",
       "      <th>0</th>\n",
       "      <td>206461</td>\n",
       "      <td>Valsartan</td>\n",
       "      <td>left ventricular dysfunction</td>\n",
       "      <td>\"It has no side effect, I take it in combinati...</td>\n",
       "      <td>9</td>\n",
       "      <td>20-May-12</td>\n",
       "      <td>27</td>\n",
       "    </tr>\n",
       "    <tr>\n",
       "      <th>1</th>\n",
       "      <td>95260</td>\n",
       "      <td>Guanfacine</td>\n",
       "      <td>adhd</td>\n",
       "      <td>\"My son is halfway through his fourth week of ...</td>\n",
       "      <td>8</td>\n",
       "      <td>27-Apr-10</td>\n",
       "      <td>192</td>\n",
       "    </tr>\n",
       "    <tr>\n",
       "      <th>2</th>\n",
       "      <td>92703</td>\n",
       "      <td>Lybrel</td>\n",
       "      <td>birth control</td>\n",
       "      <td>\"I used to take another oral contraceptive, wh...</td>\n",
       "      <td>5</td>\n",
       "      <td>14-Dec-09</td>\n",
       "      <td>17</td>\n",
       "    </tr>\n",
       "  </tbody>\n",
       "</table>\n",
       "</div>"
      ],
      "text/plain": [
       "   uniqueID    drugName                     condition  \\\n",
       "0    206461   Valsartan  left ventricular dysfunction   \n",
       "1     95260  Guanfacine                          adhd   \n",
       "2     92703      Lybrel                 birth control   \n",
       "\n",
       "                                              review  rating       date  \\\n",
       "0  \"It has no side effect, I take it in combinati...       9  20-May-12   \n",
       "1  \"My son is halfway through his fourth week of ...       8  27-Apr-10   \n",
       "2  \"I used to take another oral contraceptive, wh...       5  14-Dec-09   \n",
       "\n",
       "   usefulCount  \n",
       "0           27  \n",
       "1          192  \n",
       "2           17  "
      ]
     },
     "execution_count": 15,
     "metadata": {},
     "output_type": "execute_result"
    }
   ],
   "source": [
    "### From dataset to dataframe\n",
    "drug_dataset.set_format(\"pandas\")\n",
    "drug_dataset[\"train\"][:3]"
   ]
  },
  {
   "cell_type": "code",
   "execution_count": 16,
   "id": "a7b1d00e183badc8",
   "metadata": {
    "ExecuteTime": {
     "end_time": "2025-02-25T08:36:14.739310Z",
     "start_time": "2025-02-25T08:36:14.649512Z"
    }
   },
   "outputs": [
    {
     "data": {
      "text/html": [
       "<div>\n",
       "<style scoped>\n",
       "    .dataframe tbody tr th:only-of-type {\n",
       "        vertical-align: middle;\n",
       "    }\n",
       "\n",
       "    .dataframe tbody tr th {\n",
       "        vertical-align: top;\n",
       "    }\n",
       "\n",
       "    .dataframe thead th {\n",
       "        text-align: right;\n",
       "    }\n",
       "</style>\n",
       "<table border=\"1\" class=\"dataframe\">\n",
       "  <thead>\n",
       "    <tr style=\"text-align: right;\">\n",
       "      <th></th>\n",
       "      <th>frequency</th>\n",
       "      <th>count</th>\n",
       "    </tr>\n",
       "  </thead>\n",
       "  <tbody>\n",
       "    <tr>\n",
       "      <th>0</th>\n",
       "      <td>birth control</td>\n",
       "      <td>28788</td>\n",
       "    </tr>\n",
       "    <tr>\n",
       "      <th>1</th>\n",
       "      <td>depression</td>\n",
       "      <td>9069</td>\n",
       "    </tr>\n",
       "    <tr>\n",
       "      <th>2</th>\n",
       "      <td>pain</td>\n",
       "      <td>6145</td>\n",
       "    </tr>\n",
       "    <tr>\n",
       "      <th>3</th>\n",
       "      <td>anxiety</td>\n",
       "      <td>5904</td>\n",
       "    </tr>\n",
       "    <tr>\n",
       "      <th>4</th>\n",
       "      <td>acne</td>\n",
       "      <td>5588</td>\n",
       "    </tr>\n",
       "  </tbody>\n",
       "</table>\n",
       "</div>"
      ],
      "text/plain": [
       "       frequency  count\n",
       "0  birth control  28788\n",
       "1     depression   9069\n",
       "2           pain   6145\n",
       "3        anxiety   5904\n",
       "4           acne   5588"
      ]
     },
     "execution_count": 16,
     "metadata": {},
     "output_type": "execute_result"
    }
   ],
   "source": [
    "train_df = drug_dataset[\"train\"][:]\n",
    "frequencies = (\n",
    "    train_df[\"condition\"]\n",
    "    .value_counts()\n",
    "    .to_frame()\n",
    "    .reset_index()\n",
    "    .rename(columns={\"index\": \"condition\", \"condition\": \"frequency\"})\n",
    ")\n",
    "frequencies.head()"
   ]
  },
  {
   "cell_type": "markdown",
   "id": "98e89876-5e03-4876-88b8-44a4d7c298d5",
   "metadata": {},
   "source": [
    "Data   | format\tFunction\n",
    "-----------------------------\n",
    "Arrow  | Dataset.save_to_disk(),\n",
    "CSV\t   | Dataset.to_csv(),\n",
    "JSON   | Dataset.to_json(),"
   ]
  },
  {
   "cell_type": "code",
   "execution_count": 18,
   "id": "e39a85ab-9302-4473-b013-2af207c3eeeb",
   "metadata": {},
   "outputs": [
    {
     "data": {
      "text/plain": [
       "DatasetDict({\n",
       "    train: Dataset({\n",
       "        features: ['uniqueID', 'drugName', 'condition', 'review', 'rating', 'date', 'usefulCount'],\n",
       "        num_rows: 128318\n",
       "    })\n",
       "    validation: Dataset({\n",
       "        features: ['uniqueID', 'drugName', 'condition', 'review', 'rating', 'date', 'usefulCount'],\n",
       "        num_rows: 32080\n",
       "    })\n",
       "    test: Dataset({\n",
       "        features: ['uniqueID', 'drugName', 'condition', 'review', 'rating', 'date', 'usefulCount'],\n",
       "        num_rows: 53471\n",
       "    })\n",
       "})"
      ]
     },
     "execution_count": 18,
     "metadata": {},
     "output_type": "execute_result"
    }
   ],
   "source": [
    "drug_dataset_clean = drug_dataset[\"train\"].train_test_split(train_size=0.8, seed=42)\n",
    "# Rename the default \"test\" split to \"validation\"\n",
    "drug_dataset_clean[\"validation\"] = drug_dataset_clean.pop(\"test\")\n",
    "# Add the \"test\" set to our `DatasetDict`\n",
    "drug_dataset_clean[\"test\"] = drug_dataset[\"test\"]\n",
    "drug_dataset_clean"
   ]
  },
  {
   "cell_type": "code",
   "execution_count": 19,
   "id": "7a19e2bfb08dac6b",
   "metadata": {
    "ExecuteTime": {
     "end_time": "2025-02-25T08:36:14.857317Z",
     "start_time": "2025-02-25T08:36:14.856029Z"
    },
    "collapsed": true,
    "jupyter": {
     "outputs_hidden": true
    },
    "scrolled": true
   },
   "outputs": [
    {
     "data": {
      "application/vnd.jupyter.widget-view+json": {
       "model_id": "b5ed43de977b49678ddfb8fb78b54243",
       "version_major": 2,
       "version_minor": 0
      },
      "text/plain": [
       "Saving the dataset (0/1 shards):   0%|          | 0/128318 [00:00<?, ? examples/s]"
      ]
     },
     "metadata": {},
     "output_type": "display_data"
    },
    {
     "data": {
      "application/vnd.jupyter.widget-view+json": {
       "model_id": "88ac0d00c4104076b0cdac10c25ded44",
       "version_major": 2,
       "version_minor": 0
      },
      "text/plain": [
       "Saving the dataset (0/1 shards):   0%|          | 0/32080 [00:00<?, ? examples/s]"
      ]
     },
     "metadata": {},
     "output_type": "display_data"
    },
    {
     "data": {
      "application/vnd.jupyter.widget-view+json": {
       "model_id": "66b0f51a6d8744f48f3731f9566b9956",
       "version_major": 2,
       "version_minor": 0
      },
      "text/plain": [
       "Saving the dataset (0/1 shards):   0%|          | 0/53471 [00:00<?, ? examples/s]"
      ]
     },
     "metadata": {},
     "output_type": "display_data"
    }
   ],
   "source": [
    "drug_dataset_clean.save_to_disk(\"drug-reviews\")"
   ]
  },
  {
   "cell_type": "code",
   "execution_count": 37,
   "id": "ae236ce4-c5ba-45aa-82c8-d04e7205c6bb",
   "metadata": {},
   "outputs": [
    {
     "data": {
      "text/plain": [
       "DatasetDict({\n",
       "    train: Dataset({\n",
       "        features: ['uniqueID', 'drugName', 'condition', 'review', 'rating', 'date', 'usefulCount'],\n",
       "        num_rows: 128318\n",
       "    })\n",
       "    validation: Dataset({\n",
       "        features: ['uniqueID', 'drugName', 'condition', 'review', 'rating', 'date', 'usefulCount'],\n",
       "        num_rows: 32080\n",
       "    })\n",
       "    test: Dataset({\n",
       "        features: ['uniqueID', 'drugName', 'condition', 'review', 'rating', 'date', 'usefulCount'],\n",
       "        num_rows: 53471\n",
       "    })\n",
       "})"
      ]
     },
     "execution_count": 37,
     "metadata": {},
     "output_type": "execute_result"
    }
   ],
   "source": [
    "from datasets import load_from_disk\n",
    "\n",
    "drug_dataset_reloaded = load_from_disk(\"drug-reviews\")\n",
    "drug_dataset_reloaded"
   ]
  },
  {
   "cell_type": "code",
   "execution_count": null,
   "id": "fd4c4fa2-f965-4411-b163-f153b1de29a0",
   "metadata": {},
   "outputs": [],
   "source": []
  }
 ],
 "metadata": {
  "kernelspec": {
   "display_name": "Python [conda env:base] *",
   "language": "python",
   "name": "conda-base-py"
  },
  "language_info": {
   "codemirror_mode": {
    "name": "ipython",
    "version": 3
   },
   "file_extension": ".py",
   "mimetype": "text/x-python",
   "name": "python",
   "nbconvert_exporter": "python",
   "pygments_lexer": "ipython3",
   "version": "3.12.4"
  }
 },
 "nbformat": 4,
 "nbformat_minor": 5
}
